{
 "cells": [
  {
   "cell_type": "code",
   "execution_count": 4,
   "id": "6163c65c-33c9-401a-85a5-d2c3c441ec20",
   "metadata": {},
   "outputs": [
    {
     "name": "stdout",
     "output_type": "stream",
     "text": [
      "everything loaded\n"
     ]
    }
   ],
   "source": [
    "#importing all lib and dependencies\n",
    "import numpy as np\n",
    "\n",
    "import torch \n",
    "import torch.nn as nn\n",
    "import torch.nn.functional as F\n",
    "import torch.optim as optim\n",
    "\n",
    "import matplotlib.pyplot as plt\n",
    "\n",
    "import pandas as pd\n",
    "\n",
    "\n",
    "from torch.utils.data import Dataset\n",
    "from torch.utils.data import DataLoader\n",
    "from matplotlib.pyplot import figure\n",
    "from alpha_vantage.timeseries import TimeSeries\n",
    "from alpha_vantage.cryptocurrencies import CryptoCurrencies\n",
    "print(\"everything loaded\")\n"
   ]
  },
  {
   "cell_type": "code",
   "execution_count": 16,
   "id": "43b847f2-4f8d-4734-8e29-11880f22f11e",
   "metadata": {},
   "outputs": [],
   "source": [
    "#api key: V9Z2AN6WG17PDHZU\n",
    "\n",
    "config = {\n",
    "    \"alpha_vantage\": {\n",
    "        \"key\": \"V9Z2AN6WG17PDHZU\",\n",
    "        \"symbol\": \"IBM\",\n",
    "        \"outputsize\": \"full\",\n",
    "        \"key_adjusted_close\": \"4. close\",\n",
    "    },\n",
    "    \"alpha_vantage_crypto\": {\n",
    "        \"key\": \"V9Z2AN6WG17PDHZU\",\n",
    "        \"symbol\": \"BTC\",\n",
    "        \"market\": \"USD\",  #\"CNY\"\n",
    "        \"key_close\": \"4b.close (USD)\",\n",
    "    },\n",
    "    \n",
    "    \"data\": {\n",
    "        \"window_size\": 20,\n",
    "        \"tran_split_size\": 0.80,\n",
    "    },\n",
    "    \"model\": {\n",
    "        \"input_size\": 1, #using only one feature: the close price\n",
    "        \"num_lstm_layers\": 2,\n",
    "        \"lstm_size\": 32,\n",
    "        \"dropout\": 0.2,\n",
    "    },\n",
    "    \"model_mine\":{\n",
    "        \"input_size\": 5 #features used: open, close, high, low, volume\n",
    "        \"num_lstm_layers\": 3,\n",
    "        \"lstm_size\": 128,\n",
    "        \"dropout\": 0.05\n",
    "    },\n",
    "    \"training\": {\n",
    "        \"device\": \"cuda\", #cuda or cpu\n",
    "        \"batch_size\": 64,\n",
    "        \"num_epoch\": 1000,\n",
    "        \"learning_rate\": 0.0001,\n",
    "        \"scheduler_step_size\": 40,\n",
    "    }\n",
    "}"
   ]
  },
  {
   "cell_type": "code",
   "execution_count": 18,
   "id": "e395a901-b8d9-48ff-9704-f3b11f2ef3cd",
   "metadata": {},
   "outputs": [
    {
     "data": {
      "image/png": "[encoded data removed]",
      "text/plain": [
       "<Figure size 432x288 with 1 Axes>"
      ]
     },
     "metadata": {
      "needs_background": "light"
     },
     "output_type": "display_data"
    }
   ],
   "source": [
    "def plot_data(pd_data):\n",
    "    pd_data.plot()\n",
    "    plt.tight_layout()\n",
    "    plt.title(\"daily close value\")\n",
    "    plt.grid()\n",
    "    plt.show()\n",
    "\n",
    "plot_data(data[\"4b. close (USD)\"])"
   ]
  },
  {
   "cell_type": "code",
   "execution_count": 44,
   "id": "6d8dbf43-c9f1-4dc3-b387-0adb9dd1c507",
   "metadata": {},
   "outputs": [],
   "source": [
    "def download_data(config):\n",
    "    ts = TimeSeries(key=config[\"alpha_vantage\"][\"key\"], output_format = \"pandas\")\n",
    "    data, meta_data = ts.get_daily(config[\"alpha_vantage\"][\"symbol\"], outputsize = 'full')\n",
    "    return data\n",
    "\n",
    "def download_crypto_data(config):\n",
    "    cc = CryptoCurrencies(key = config[\"alpha_vantage_crypto\"][\"key\"], output_format = 'pandas')\n",
    "    data, meta_data = cc.get_digital_currency_daily(symbol = config[\"alpha_vantage_crypto\"][\"symbol\"], market = config[\"alpha_vantage_crypto\"][\"market\"])\n",
    "    return data\n"
   ]
  },
  {
   "cell_type": "code",
   "execution_count": 59,
   "id": "9a3c84bd-d977-4000-b146-66ff9e95abc1",
   "metadata": {},
   "outputs": [],
   "source": [
    "stock_data = download_data(config)\n",
    "crypto_data = download_crypto_data(config)\n",
    "#stock_data[\"4. close\"].plot()\n",
    "#crypto_data[\"4b. close (USD)\"].plot()"
   ]
  },
  {
   "cell_type": "code",
   "execution_count": 65,
   "id": "0d6ea55b-3cb9-4b46-95fc-d4107ca208a9",
   "metadata": {},
   "outputs": [],
   "source": [
    "#normalization:\n",
    "#mean normalization:\n",
    "\n",
    "def norm_dataframe_mean(df):\n",
    "    normalized_df=(df-df.mean())/df.std()\n",
    "    return normalized_df\n",
    "\n",
    "#min-max normalization:   \n",
    "#normalized_df=(df-df.min())/(df.max()-df.min())\n",
    "\n",
    "def norm_dataframe_minmax(df):\n",
    "    normalized_df=(df-df.min())/(df.max()-df.min())\n",
    "    return normalized_df\n",
    "\n",
    "#norm_dataframe_minmax(stock_data)[\"4. close\"].plot()\n",
    "#norm_dataframe_mean(stock_data)[\"4. close\"].plot()\n",
    "\n",
    "\n",
    "stock_data_normed = norm_dataframe_mean(stock_data)\n",
    "crypto_data_normed = norm_dataframe_mean(crypto_data)"
   ]
  },
  {
   "cell_type": "code",
   "execution_count": 69,
   "id": "a7c4da72-882b-4b67-b6a3-7b4db994c5b9",
   "metadata": {},
   "outputs": [],
   "source": [
    "#check this: https://www.analyticsvidhya.com/blog/2021/12/stock-price-prediction-using-lstm/\n",
    "\n",
    "#data preparation\n",
    "#    x: the last 20 days price              shape: [length_of_data, 20]\n",
    "#    Y: the future price (21st day price)   shape: [length_of_data, ]\n",
    "#    \n",
    "#    train-test split. done by scipy or pandas. \n",
    "#    ratio: train : validation : test  =  7:2:1\n",
    "\n",
    "stock_data_normed[\"6. close MA\"] = stock_data_normed[\"4. close\"].rolling(window=20).mean() \n"
   ]
  },
  {
   "cell_type": "code",
   "execution_count": 72,
   "id": "d85cbb6e-25e2-4bf8-801f-db6374bcecb2",
   "metadata": {},
   "outputs": [
    {
     "data": {
      "text/plain": [
       "(5685,)"
      ]
     },
     "execution_count": 72,
     "metadata": {},
     "output_type": "execute_result"
    }
   ],
   "source": [
    "stock_data_normed[\"6. close MA\"].shape"
   ]
  },
  {
   "cell_type": "code",
   "execution_count": null,
   "id": "d176f2a9-11ba-47a5-ab6a-19904f511653",
   "metadata": {},
   "outputs": [],
   "source": []
  }
 ],
 "metadata": {
  "kernelspec": {
   "display_name": "Python 3 (ipykernel)",
   "language": "python",
   "name": "python3"
  },
  "language_info": {
   "codemirror_mode": {
    "name": "ipython",
    "version": 3
   },
   "file_extension": ".py",
   "mimetype": "text/x-python",
   "name": "python",
   "nbconvert_exporter": "python",
   "pygments_lexer": "ipython3",
   "version": "3.10.4"
  }
 },
 "nbformat": 4,
 "nbformat_minor": 5
}
