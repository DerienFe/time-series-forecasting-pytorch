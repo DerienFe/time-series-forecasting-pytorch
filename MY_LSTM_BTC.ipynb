{
 "cells": [
  {
   "cell_type": "code",
   "execution_count": 1,
   "id": "6163c65c-33c9-401a-85a5-d2c3c441ec20",
   "metadata": {},
   "outputs": [
    {
     "name": "stderr",
     "output_type": "stream",
     "text": [
      "C:\\Users\\13401\\.conda\\envs\\dl_env2\\lib\\site-packages\\tqdm\\auto.py:22: TqdmWarning: IProgress not found. Please update jupyter and ipywidgets. See https://ipywidgets.readthedocs.io/en/stable/user_install.html\n",
      "  from .autonotebook import tqdm as notebook_tqdm\n"
     ]
    },
    {
     "name": "stdout",
     "output_type": "stream",
     "text": [
      "everything loaded\n"
     ]
    }
   ],
   "source": [
    "#importing all lib and dependencies\n",
    "import numpy as np\n",
    "\n",
    "import torch \n",
    "import torch.nn as nn\n",
    "import torch.nn.functional as F\n",
    "import torch.optim as optim\n",
    "\n",
    "import matplotlib.pyplot as plt\n",
    "\n",
    "import pandas as pd\n",
    "\n",
    "\n",
    "from torch.utils.data import Dataset\n",
    "from torch.utils.data import DataLoader\n",
    "from matplotlib.pyplot import figure\n",
    "from alpha_vantage.timeseries import TimeSeries\n",
    "from alpha_vantage.cryptocurrencies import CryptoCurrencies\n",
    "print(\"everything loaded\")\n"
   ]
  },
  {
   "cell_type": "code",
   "execution_count": 6,
   "id": "43b847f2-4f8d-4734-8e29-11880f22f11e",
   "metadata": {},
   "outputs": [],
   "source": [
    "#api key: V9Z2AN6WG17PDHZU\n",
    "\n",
    "config = {\n",
    "    \"alpha_vantage\": {\n",
    "        \"key\": \"V9Z2AN6WG17PDHZU\",\n",
    "        \"symbol\": \"IBM\",\n",
    "        \"outputsize\": \"full\",\n",
    "        \"key_adjusted_close\": \"4. close\",\n",
    "    },\n",
    "    \"alpha_vantage_crypto\": {\n",
    "        \"key\": \"V9Z2AN6WG17PDHZU\",\n",
    "        \"symbol\": \"BTC\",\n",
    "        \"market\": \"USD\",  #\"CNY\"\n",
    "        \"key_close\": \"4b.close (USD)\",\n",
    "    },\n",
    "    \n",
    "    \"data\": {\n",
    "        \"window_size\": 20,\n",
    "        \"tran_split_size\": 0.80,\n",
    "    },\n",
    "    \"model\": {\n",
    "        \"input_size\": 1, #using only one feature: the close price\n",
    "        \"num_lstm_layers\": 2,\n",
    "        \"lstm_size\": 32,\n",
    "        \"dropout\": 0.2,\n",
    "    },\n",
    "    \"model_mine\":{\n",
    "        \"input_size\": 5, #features used: open, close, high, low, volume\n",
    "        \"num_lstm_layers\": 3,\n",
    "        \"lstm_size\": 128,\n",
    "        \"dropout\": 0.05\n",
    "    },\n",
    "    \"training\": {\n",
    "        \"device\": \"cuda\", #cuda or cpu\n",
    "        \"batch_size\": 64,\n",
    "        \"num_epoch\": 1000,\n",
    "        \"learning_rate\": 0.0001,\n",
    "        \"scheduler_step_size\": 40,\n",
    "    }\n",
    "}"
   ]
  },
  {
   "cell_type": "code",
   "execution_count": 8,
   "id": "6d8dbf43-c9f1-4dc3-b387-0adb9dd1c507",
   "metadata": {},
   "outputs": [],
   "source": [
    "def download_data(config):\n",
    "    ts = TimeSeries(key=config[\"alpha_vantage\"][\"key\"], output_format = \"pandas\")\n",
    "    data, meta_data = ts.get_daily(config[\"alpha_vantage\"][\"symbol\"], outputsize = 'full')\n",
    "    return data\n",
    "\n",
    "def download_crypto_data(config):\n",
    "    cc = CryptoCurrencies(key = config[\"alpha_vantage_crypto\"][\"key\"], output_format = 'pandas')\n",
    "    data, meta_data = cc.get_digital_currency_daily(symbol = config[\"alpha_vantage_crypto\"][\"symbol\"], market = config[\"alpha_vantage_crypto\"][\"market\"])\n",
    "    return data\n"
   ]
  },
  {
   "cell_type": "code",
   "execution_count": 17,
   "id": "9a3c84bd-d977-4000-b146-66ff9e95abc1",
   "metadata": {},
   "outputs": [],
   "source": [
    "def plot_data(pd_data):\n",
    "    pd_data.plot()\n",
    "    plt.tight_layout()\n",
    "    plt.title(\"daily close value\")\n",
    "    plt.grid()\n",
    "    plt.show()\n",
    "\n",
    "stock_data = download_data(config)\n",
    "crypto_data = download_crypto_data(config)\n",
    "#stock_data[\"4. close\"].plot()\n",
    "#crypto_data[\"4b. close (USD)\"].plot()"
   ]
  },
  {
   "cell_type": "code",
   "execution_count": 10,
   "id": "0d6ea55b-3cb9-4b46-95fc-d4107ca208a9",
   "metadata": {},
   "outputs": [],
   "source": [
    "#normalization:\n",
    "#mean normalization:\n",
    "\n",
    "def norm_dataframe_mean(df):\n",
    "    normalized_df=(df-df.mean())/df.std()\n",
    "    return normalized_df\n",
    "\n",
    "#min-max normalization:   \n",
    "#normalized_df=(df-df.min())/(df.max()-df.min())\n",
    "\n",
    "def norm_dataframe_minmax(df):\n",
    "    normalized_df=(df-df.min())/(df.max()-df.min())\n",
    "    return normalized_df\n",
    "\n",
    "#norm_dataframe_minmax(stock_data)[\"4. close\"].plot()\n",
    "#norm_dataframe_mean(stock_data)[\"4. close\"].plot()\n",
    "\n",
    "\n",
    "stock_data_normed = norm_dataframe_mean(stock_data)\n",
    "crypto_data_normed = norm_dataframe_mean(crypto_data)"
   ]
  },
  {
   "cell_type": "code",
   "execution_count": 69,
   "id": "a7c4da72-882b-4b67-b6a3-7b4db994c5b9",
   "metadata": {},
   "outputs": [],
   "source": [
    "#check this: https://www.analyticsvidhya.com/blog/2021/12/stock-price-prediction-using-lstm/\n",
    "\n",
    "#data preparation\n",
    "#    x: the last 20 days price              shape: [length_of_data, 20]\n",
    "#    Y: the future price (21st day price)   shape: [length_of_data, ]\n",
    "#    \n",
    "#    train-test split. done by scipy or pandas. \n",
    "#    ratio: train : validation : test  =  7:2:1\n",
    "\n",
    "stock_data_normed[\"6. close MA\"] = stock_data_normed[\"4. close\"].rolling(window=20).mean() \n"
   ]
  },
  {
   "cell_type": "code",
   "execution_count": 72,
   "id": "d85cbb6e-25e2-4bf8-801f-db6374bcecb2",
   "metadata": {},
   "outputs": [
    {
     "data": {
      "text/plain": [
       "(5685,)"
      ]
     },
     "execution_count": 72,
     "metadata": {},
     "output_type": "execute_result"
    }
   ],
   "source": [
    "stock_data_normed[\"6. close MA\"].shape"
   ]
  },
  {
   "cell_type": "code",
   "execution_count": 19,
   "id": "d176f2a9-11ba-47a5-ab6a-19904f511653",
   "metadata": {},
   "outputs": [],
   "source": [
    "from sklearn import preprocessing"
   ]
  },
  {
   "cell_type": "code",
   "execution_count": 28,
   "id": "c8fbe42f-6e5e-43e2-bdd2-ede253482700",
   "metadata": {},
   "outputs": [
    {
     "name": "stdout",
     "output_type": "stream",
     "text": [
      "[[-0.2124308  -0.22346417 -0.26674658 -0.29282988 -0.20768464]\n",
      " [-0.20716793 -0.21820934 -0.21238166 -0.21473764 -0.6678931 ]\n",
      " [-0.21270779 -0.20133856 -0.23346194 -0.18344537 -0.31299103]\n",
      " ...\n",
      " [-0.92679617 -0.95609843 -0.96322774 -0.96962926  1.3047768 ]\n",
      " [-0.90242078 -0.93203683 -0.95795767 -0.95744466  1.52648238]\n",
      " [-0.85394697 -0.8767228  -0.88362196 -0.90372163  1.05868149]]\n"
     ]
    }
   ],
   "source": [
    "scaler = preprocessing.StandardScaler().fit(stock_data)\n",
    "stock_data_scaled = scaler.transform(stock_data)\n",
    "print(stock_data_scaled)\n",
    "#sotck_data_scaled_inversed = scaler.inverse_transform(stock_data_scaled)"
   ]
  },
  {
   "cell_type": "code",
   "execution_count": 32,
   "id": "9fd3c2ad-3dc0-4977-9fbf-f14fd04e2abc",
   "metadata": {},
   "outputs": [],
   "source": [
    "#here we define x and y:\n",
    "# x is the window defined by a hyperparameter window_size,\n",
    "# y is the moving average in this window.\n",
    "\n",
    "def prepare_data_x(x, window_size):\n",
    "    #perform windowing\n",
    "    n_row = x.shape[0] - window_size + 1\n",
    "    output = np.lib.stride_tricks.as_strided(x, shape = (n_row, window_size), strides = (x.strides[0], x.strides[0]))\n",
    "    return output[:-1], output[-1]\n",
    "\n",
    "def prepare_data_y(x, window_size):\n",
    "    # # perform simple moving average\n",
    "    # output = np.convolve(x, np.ones(window_size), 'valid') / window_size\n",
    "\n",
    "    # use the next day as label\n",
    "    output = x[window_size:]\n",
    "    return output\n",
    "\n"
   ]
  },
  {
   "cell_type": "code",
   "execution_count": 33,
   "id": "45e7cb1e-88a5-4fa4-bbd0-ee03a37250bb",
   "metadata": {},
   "outputs": [
    {
     "data": {
      "text/plain": [
       "(array([[-0.2124308 , -0.20716793, -0.21270779, ..., -0.07310324,\n",
       "         -0.042357  ,  0.0268913 ],\n",
       "        [-0.20716793, -0.21270779, -0.18639344, ..., -0.042357  ,\n",
       "          0.0268913 , -0.02573741],\n",
       "        [-0.21270779, -0.18639344, -0.19470324, ...,  0.0268913 ,\n",
       "         -0.02573741,  0.01636555],\n",
       "        ...,\n",
       "        [-0.71711235, -0.74148775, -0.71018752, ..., -1.0755415 ,\n",
       "         -1.01321804, -0.9664062 ],\n",
       "        [-0.74148775, -0.71018752, -0.67556337, ..., -1.01321804,\n",
       "         -0.9664062 , -0.92679617],\n",
       "        [-0.71018752, -0.67556337, -0.64786406, ..., -0.9664062 ,\n",
       "         -0.92679617, -0.90242078]]),\n",
       " array([-0.67556337, -0.64786406, -0.67390141, -0.56836702, -0.66005176,\n",
       "        -0.84009731, -0.9785939 , -0.95449549, -0.96142032, -0.92319526,\n",
       "        -0.92319526, -0.88164629, -0.96142032, -0.94923262, -1.0755415 ,\n",
       "        -1.01321804, -0.9664062 , -0.92679617, -0.90242078, -0.85394697]))"
      ]
     },
     "execution_count": 33,
     "metadata": {},
     "output_type": "execute_result"
    }
   ],
   "source": [
    "prepare_data_x(stock_data_scaled, 20)"
   ]
  },
  {
   "cell_type": "code",
   "execution_count": null,
   "id": "a4d3f7f1-6064-4cb0-aa58-47e6852d442c",
   "metadata": {},
   "outputs": [],
   "source": []
  }
 ],
 "metadata": {
  "kernelspec": {
   "display_name": "Python 3 (ipykernel)",
   "language": "python",
   "name": "python3"
  },
  "language_info": {
   "codemirror_mode": {
    "name": "ipython",
    "version": 3
   },
   "file_extension": ".py",
   "mimetype": "text/x-python",
   "name": "python",
   "nbconvert_exporter": "python",
   "pygments_lexer": "ipython3",
   "version": "3.10.6"
  }
 },
 "nbformat": 4,
 "nbformat_minor": 5
}
